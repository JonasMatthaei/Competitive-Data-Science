{
 "cells": [
  {
   "cell_type": "markdown",
   "metadata": {},
   "source": [
    "# importing libraries"
   ]
  },
  {
   "cell_type": "code",
   "execution_count": 25,
   "metadata": {},
   "outputs": [],
   "source": [
    "# Use this cell to regroup all your imports\n",
    "import pandas as pd\n",
    "import numpy as np\n",
    "import matplotlib.pyplot as plt\n",
    "import seaborn as sns\n",
    "from sklearn import set_config; set_config(display='diagram')\n",
    "from sklearn.preprocessing import OrdinalEncoder\n",
    "from sklearn.pipeline import Pipeline\n",
    "from sklearn.linear_model import Ridge\n",
    "from sklearn.preprocessing import FunctionTransformer\n",
    "from sklearn.preprocessing import OneHotEncoder\n",
    "from sklearn.compose import ColumnTransformer\n",
    "from sklearn.pipeline import make_pipeline\n",
    "from sklearn.impute import SimpleImputer\n",
    "from sklearn.compose import ColumnTransformer\n",
    "from sklearn.preprocessing import FunctionTransformer\n",
    "from sklearn.metrics import make_scorer, mean_squared_log_error\n",
    "from sklearn.ensemble import RandomForestRegressor\n",
    "from sklearn.model_selection import cross_val_score\n"
   ]
  },
  {
   "cell_type": "markdown",
   "metadata": {},
   "source": [
    "# Loading dataframes"
   ]
  },
  {
   "cell_type": "code",
   "execution_count": 48,
   "metadata": {},
   "outputs": [
    {
     "data": {
      "text/plain": [
       "Index(['Id', 'MSSubClass', 'MSZoning', 'LotFrontage', 'LotArea', 'Street',\n",
       "       'Alley', 'LotShape', 'LandContour', 'Utilities', 'LotConfig',\n",
       "       'LandSlope', 'Neighborhood', 'Condition1', 'Condition2', 'BldgType',\n",
       "       'HouseStyle', 'OverallQual', 'OverallCond', 'YearBuilt', 'YearRemodAdd',\n",
       "       'RoofStyle', 'RoofMatl', 'Exterior1st', 'Exterior2nd', 'MasVnrType',\n",
       "       'MasVnrArea', 'ExterQual', 'ExterCond', 'Foundation', 'BsmtQual',\n",
       "       'BsmtCond', 'BsmtExposure', 'BsmtFinType1', 'BsmtFinSF1',\n",
       "       'BsmtFinType2', 'BsmtFinSF2', 'BsmtUnfSF', 'TotalBsmtSF', 'Heating',\n",
       "       'HeatingQC', 'CentralAir', 'Electrical', '1stFlrSF', '2ndFlrSF',\n",
       "       'LowQualFinSF', 'GrLivArea', 'BsmtFullBath', 'BsmtHalfBath', 'FullBath',\n",
       "       'HalfBath', 'BedroomAbvGr', 'KitchenAbvGr', 'KitchenQual',\n",
       "       'TotRmsAbvGrd', 'Functional', 'Fireplaces', 'FireplaceQu', 'GarageType',\n",
       "       'GarageYrBlt', 'GarageFinish', 'GarageCars', 'GarageArea', 'GarageQual',\n",
       "       'GarageCond', 'PavedDrive', 'WoodDeckSF', 'OpenPorchSF',\n",
       "       'EnclosedPorch', '3SsnPorch', 'ScreenPorch', 'PoolArea', 'PoolQC',\n",
       "       'Fence', 'MiscFeature', 'MiscVal', 'MoSold', 'YrSold', 'SaleType',\n",
       "       'SaleCondition'],\n",
       "      dtype='object')"
      ]
     },
     "execution_count": 48,
     "metadata": {},
     "output_type": "execute_result"
    }
   ],
   "source": [
    "df_test = pd.read_csv(\"data/test.csv\")\n",
    "df_test.columns"
   ]
  },
  {
   "cell_type": "code",
   "execution_count": 43,
   "metadata": {},
   "outputs": [],
   "source": [
    "df_train = pd.read_csv(\"data/train.csv\")\n",
    "df_test = pd.read_csv(\"data/test.csv\")\n",
    "\n",
    "df_train['MSSubClass'] = df_train['MSSubClass'].apply(str)\n",
    "df_train['YrSold'] = df_train['YrSold'].astype(str)\n",
    "df_train['MoSold'] = df_train['MoSold'].astype(str)\n",
    "\n",
    "df_test['MSSubClass'] = df_test['MSSubClass'].apply(str)\n",
    "df_test['YrSold'] = df_test['YrSold'].astype(str)\n",
    "df_test['MoSold'] = df_test['MoSold'].astype(str)"
   ]
  },
  {
   "cell_type": "markdown",
   "metadata": {},
   "source": [
    "## Removing outliers before definining X and y"
   ]
  },
  {
   "cell_type": "code",
   "execution_count": 3,
   "metadata": {},
   "outputs": [],
   "source": [
    "df_train.drop(df_train[(df_train[\"OverallQual\"] == 10) & (df_train[\"SalePrice\"] <=250000)].index , inplace = True)\n",
    "\n",
    "df_train.drop(df_train[df_train[\"LotFrontage\"] >250].index , inplace = True)\n",
    "\n",
    "df_train.drop(df_train[(df_train[\"GarageArea\"] > 1200 ) & (df_train[\"SalePrice\"] <= 300000)].index , inplace = True)\n",
    "\n",
    "df_train.drop(df_train[ (df_train[\"LotArea\"] >= 100000)].index , inplace = True)\n",
    "\n",
    "outliers_1 = (df_train[\"YearBuilt\"] < 1900) & (df_train[\"SalePrice\"] >= 400000)\n",
    "df_train.drop(df_train[outliers_1].index , inplace = True)\n",
    "\n",
    "outliers_2 = (df_train[\"1stFlrSF\"] > 2700)\n",
    "df_train.drop(df_train[outliers_2].index , inplace = True)\n"
   ]
  },
  {
   "cell_type": "markdown",
   "metadata": {},
   "source": [
    "# Loading X/y"
   ]
  },
  {
   "cell_type": "code",
   "execution_count": 4,
   "metadata": {
    "tags": [
     "challengify"
    ]
   },
   "outputs": [],
   "source": [
    "X = df_train.drop(columns=\"SalePrice\").copy()\n",
    "y= np.log1p(df_train[\"SalePrice\"])"
   ]
  },
  {
   "cell_type": "markdown",
   "metadata": {},
   "source": [
    "# Selecting initial features"
   ]
  },
  {
   "cell_type": "code",
   "execution_count": 5,
   "metadata": {},
   "outputs": [
    {
     "data": {
      "text/plain": [
       "Index(['Id', 'MSSubClass', 'MSZoning', 'LotFrontage', 'LotArea', 'Street',\n",
       "       'Alley', 'LotShape', 'LandContour', 'Utilities', 'LotConfig',\n",
       "       'LandSlope', 'Neighborhood', 'Condition1', 'Condition2', 'BldgType',\n",
       "       'HouseStyle', 'OverallQual', 'OverallCond', 'YearBuilt', 'YearRemodAdd',\n",
       "       'RoofStyle', 'RoofMatl', 'Exterior1st', 'Exterior2nd', 'MasVnrType',\n",
       "       'MasVnrArea', 'ExterQual', 'ExterCond', 'Foundation', 'BsmtQual',\n",
       "       'BsmtCond', 'BsmtExposure', 'BsmtFinType1', 'BsmtFinSF1',\n",
       "       'BsmtFinType2', 'BsmtFinSF2', 'BsmtUnfSF', 'TotalBsmtSF', 'Heating',\n",
       "       'HeatingQC', 'CentralAir', 'Electrical', '1stFlrSF', '2ndFlrSF',\n",
       "       'LowQualFinSF', 'GrLivArea', 'BsmtFullBath', 'BsmtHalfBath', 'FullBath',\n",
       "       'HalfBath', 'BedroomAbvGr', 'KitchenAbvGr', 'KitchenQual',\n",
       "       'TotRmsAbvGrd', 'Functional', 'Fireplaces', 'FireplaceQu', 'GarageType',\n",
       "       'GarageYrBlt', 'GarageFinish', 'GarageCars', 'GarageArea', 'GarageQual',\n",
       "       'GarageCond', 'PavedDrive', 'WoodDeckSF', 'OpenPorchSF',\n",
       "       'EnclosedPorch', '3SsnPorch', 'ScreenPorch', 'PoolArea', 'PoolQC',\n",
       "       'Fence', 'MiscFeature', 'MiscVal', 'MoSold', 'YrSold', 'SaleType',\n",
       "       'SaleCondition'],\n",
       "      dtype='object')"
      ]
     },
     "execution_count": 5,
     "metadata": {},
     "output_type": "execute_result"
    }
   ],
   "source": [
    "X.columns"
   ]
  },
  {
   "cell_type": "markdown",
   "metadata": {},
   "source": [
    "## dropping category columns with more than 7 unique values"
   ]
  },
  {
   "cell_type": "code",
   "execution_count": 6,
   "metadata": {},
   "outputs": [
    {
     "data": {
      "text/plain": [
       "(1447, 71)"
      ]
     },
     "execution_count": 6,
     "metadata": {},
     "output_type": "execute_result"
    }
   ],
   "source": [
    "counter = -1\n",
    "to_drop = []\n",
    "for column in X:\n",
    "    dtype = X[column].dtype\n",
    "    n_unqiue = len(X[column].unique())\n",
    "    counter= counter+1 \n",
    "    if dtype == \"object\" and n_unqiue>7:\n",
    "        to_drop.append(counter)\n",
    "\n",
    "X.drop(X.columns[to_drop], axis=1,inplace=True)\n",
    "X.shape"
   ]
  },
  {
   "cell_type": "code",
   "execution_count": 7,
   "metadata": {},
   "outputs": [],
   "source": [
    "#forgot to drop id\n",
    "#X.drop(columns=\"Id\",inplace=True)\n",
    "X.drop(columns=\"BldgType\",inplace=True)\n"
   ]
  },
  {
   "cell_type": "markdown",
   "metadata": {},
   "source": [
    "## Looking at correlation heatmap of numerical variables"
   ]
  },
  {
   "cell_type": "code",
   "execution_count": 8,
   "metadata": {},
   "outputs": [
    {
     "data": {
      "image/png": "[encoded data removed]",
      "text/plain": [
       "<Figure size 1440x1440 with 2 Axes>"
      ]
     },
     "metadata": {
      "needs_background": "light"
     },
     "output_type": "display_data"
    }
   ],
   "source": [
    "plt.figure(figsize= (20 , 20))\n",
    "sns.heatmap(df_train.corr(),cmap=\"Blues\");"
   ]
  },
  {
   "cell_type": "markdown",
   "metadata": {},
   "source": [
    "## Looking at missing values"
   ]
  },
  {
   "cell_type": "code",
   "execution_count": 9,
   "metadata": {},
   "outputs": [],
   "source": [
    "pd.set_option('display.max_rows', 100)"
   ]
  },
  {
   "cell_type": "code",
   "execution_count": 10,
   "metadata": {},
   "outputs": [
    {
     "name": "stdout",
     "output_type": "stream",
     "text": [
      "<class 'pandas.core.frame.DataFrame'>\n",
      "Int64Index: 1447 entries, 0 to 1459\n",
      "Data columns (total 70 columns):\n",
      " #   Column         Non-Null Count  Dtype  \n",
      "---  ------         --------------  -----  \n",
      " 0   Id             1447 non-null   int64  \n",
      " 1   MSZoning       1447 non-null   object \n",
      " 2   LotFrontage    1194 non-null   float64\n",
      " 3   LotArea        1447 non-null   int64  \n",
      " 4   Street         1447 non-null   object \n",
      " 5   Alley          91 non-null     object \n",
      " 6   LotShape       1447 non-null   object \n",
      " 7   LandContour    1447 non-null   object \n",
      " 8   Utilities      1447 non-null   object \n",
      " 9   LotConfig      1447 non-null   object \n",
      " 10  LandSlope      1447 non-null   object \n",
      " 11  OverallQual    1447 non-null   int64  \n",
      " 12  OverallCond    1447 non-null   int64  \n",
      " 13  YearBuilt      1447 non-null   int64  \n",
      " 14  YearRemodAdd   1447 non-null   int64  \n",
      " 15  RoofStyle      1447 non-null   object \n",
      " 16  RoofMatl       1447 non-null   object \n",
      " 17  MasVnrType     1439 non-null   object \n",
      " 18  MasVnrArea     1439 non-null   float64\n",
      " 19  ExterQual      1447 non-null   object \n",
      " 20  ExterCond      1447 non-null   object \n",
      " 21  Foundation     1447 non-null   object \n",
      " 22  BsmtQual       1410 non-null   object \n",
      " 23  BsmtCond       1410 non-null   object \n",
      " 24  BsmtExposure   1409 non-null   object \n",
      " 25  BsmtFinType1   1410 non-null   object \n",
      " 26  BsmtFinSF1     1447 non-null   int64  \n",
      " 27  BsmtFinType2   1409 non-null   object \n",
      " 28  BsmtFinSF2     1447 non-null   int64  \n",
      " 29  BsmtUnfSF      1447 non-null   int64  \n",
      " 30  TotalBsmtSF    1447 non-null   int64  \n",
      " 31  Heating        1447 non-null   object \n",
      " 32  HeatingQC      1447 non-null   object \n",
      " 33  CentralAir     1447 non-null   object \n",
      " 34  Electrical     1446 non-null   object \n",
      " 35  1stFlrSF       1447 non-null   int64  \n",
      " 36  2ndFlrSF       1447 non-null   int64  \n",
      " 37  LowQualFinSF   1447 non-null   int64  \n",
      " 38  GrLivArea      1447 non-null   int64  \n",
      " 39  BsmtFullBath   1447 non-null   int64  \n",
      " 40  BsmtHalfBath   1447 non-null   int64  \n",
      " 41  FullBath       1447 non-null   int64  \n",
      " 42  HalfBath       1447 non-null   int64  \n",
      " 43  BedroomAbvGr   1447 non-null   int64  \n",
      " 44  KitchenAbvGr   1447 non-null   int64  \n",
      " 45  KitchenQual    1447 non-null   object \n",
      " 46  TotRmsAbvGrd   1447 non-null   int64  \n",
      " 47  Functional     1447 non-null   object \n",
      " 48  Fireplaces     1447 non-null   int64  \n",
      " 49  FireplaceQu    758 non-null    object \n",
      " 50  GarageType     1366 non-null   object \n",
      " 51  GarageYrBlt    1366 non-null   float64\n",
      " 52  GarageFinish   1366 non-null   object \n",
      " 53  GarageCars     1447 non-null   int64  \n",
      " 54  GarageArea     1447 non-null   int64  \n",
      " 55  GarageQual     1366 non-null   object \n",
      " 56  GarageCond     1366 non-null   object \n",
      " 57  PavedDrive     1447 non-null   object \n",
      " 58  WoodDeckSF     1447 non-null   int64  \n",
      " 59  OpenPorchSF    1447 non-null   int64  \n",
      " 60  EnclosedPorch  1447 non-null   int64  \n",
      " 61  3SsnPorch      1447 non-null   int64  \n",
      " 62  ScreenPorch    1447 non-null   int64  \n",
      " 63  PoolArea       1447 non-null   int64  \n",
      " 64  PoolQC         6 non-null      object \n",
      " 65  Fence          280 non-null    object \n",
      " 66  MiscFeature    51 non-null     object \n",
      " 67  MiscVal        1447 non-null   int64  \n",
      " 68  YrSold         1447 non-null   object \n",
      " 69  SaleCondition  1447 non-null   object \n",
      "dtypes: float64(3), int64(31), object(36)\n",
      "memory usage: 802.6+ KB\n"
     ]
    }
   ],
   "source": [
    "X.info()"
   ]
  },
  {
   "cell_type": "markdown",
   "metadata": {},
   "source": [
    "# transforming variables"
   ]
  },
  {
   "cell_type": "code",
   "execution_count": 11,
   "metadata": {},
   "outputs": [
    {
     "data": {
      "image/png": "[encoded data removed]",
      "text/plain": [
       "<Figure size 432x288 with 1 Axes>"
      ]
     },
     "metadata": {
      "needs_background": "light"
     },
     "output_type": "display_data"
    }
   ],
   "source": [
    "sns.histplot(df_train.SalePrice , kde = True);\n",
    "#conclude from this and notebook that saleprice needs to be transformed with log (not normally distributed)"
   ]
  },
  {
   "cell_type": "code",
   "execution_count": 12,
   "metadata": {},
   "outputs": [],
   "source": [
    "ordinal_columns = [\"OverallQual\", \"OverallCond\", \"ExterQual\", \"ExterCond\", \"BsmtQual\", \"BsmtCond\", \"BsmtFinType1\", \"BsmtFinType2\", \"HeatingQC\", \"KitchenQual\", \"FireplaceQu\", \"GarageFinish\", \"GarageQual\", \"GarageCond\", \"PoolQC\"]\n",
    "nominal_columns = [\"MSSubClass\", \"MSZoning\", \"Street\", \"Alley\", \"LotShape\", \"LandContour\", \"Utilities\", \"LotConfig\", \"LandSlope\", \"Neighborhood\", \"Condition1\", \"Condition2\", \"HouseStyle\", \"RoofStyle\", \"RoofMatl\", \"Exterior1st\", \"Exterior2nd\", \"MasVnrType\", \"Foundation\", \"BsmtExposure\", \"Heating\", \"CentralAir\", \"Electrical\", \"Functional\", \"GarageType\", \"PavedDrive\", \"Fence\", \"MiscFeature\", \"SaleType\", \"SaleCondition\"]\n",
    "meaningfull_missing = [\"PoolQC\",\"Alley\",\"Fence\",\"FireplaceQu\",\"MiscFeature\"]\n",
    "non_meaningfull_missing = [\"LotFrontage\",\"GarageFinish\",\"GarageQual\",\"GarageCond\",\"GarageYrBlt\",\"GarageType\",\"BsmtExposure\",\"BsmtCond\",\"BsmtQual\",\"BsmtFinType2\",\"MasVnrType\",\"MasVnrArea\",\"MSZoning\",\"BsmtFullBath\",\"BsmtHalfBath\",\n",
    "\"Functional\",\"Utilities\",\"GarageArea\",\"GarageCars\",\"Electrical\",\"KitchenQual\",\"TotalBsmtSF\",\"BsmtUnfSF\",\"BsmtFinSF2\",\"BsmtFinSF1\",\"Exterior2nd\",\"Exterior1st\",\"SaleType\"]"
   ]
  },
  {
   "cell_type": "code",
   "execution_count": 13,
   "metadata": {},
   "outputs": [],
   "source": [
    "list_of_columns = list(X.columns)"
   ]
  },
  {
   "cell_type": "code",
   "execution_count": 14,
   "metadata": {},
   "outputs": [],
   "source": [
    "ordinal_columns = [x for x in ordinal_columns if x in list_of_columns]\n",
    "nominal_columns = [x for x in nominal_columns if x in list_of_columns]\n",
    "meaningfull_missing = [x for x in meaningfull_missing if x in list_of_columns]\n",
    "non_meaningfull_missing = [x for x in non_meaningfull_missing if x in list_of_columns]"
   ]
  },
  {
   "cell_type": "code",
   "execution_count": 15,
   "metadata": {},
   "outputs": [],
   "source": [
    "non_col =[x for x in list_of_columns if (x not in meaningfull_missing) and (x not in non_meaningfull_missing)]"
   ]
  },
  {
   "cell_type": "code",
   "execution_count": 16,
   "metadata": {},
   "outputs": [
    {
     "data": {
      "text/plain": [
       "['Id',\n",
       " 'LotArea',\n",
       " 'Street',\n",
       " 'LotShape',\n",
       " 'LandContour',\n",
       " 'LotConfig',\n",
       " 'LandSlope',\n",
       " 'OverallQual',\n",
       " 'OverallCond',\n",
       " 'YearBuilt',\n",
       " 'YearRemodAdd',\n",
       " 'RoofStyle',\n",
       " 'RoofMatl',\n",
       " 'ExterQual',\n",
       " 'ExterCond',\n",
       " 'Foundation',\n",
       " 'BsmtFinType1',\n",
       " 'Heating',\n",
       " 'HeatingQC',\n",
       " 'CentralAir',\n",
       " '1stFlrSF',\n",
       " '2ndFlrSF',\n",
       " 'LowQualFinSF',\n",
       " 'GrLivArea',\n",
       " 'FullBath',\n",
       " 'HalfBath',\n",
       " 'BedroomAbvGr',\n",
       " 'KitchenAbvGr',\n",
       " 'TotRmsAbvGrd',\n",
       " 'Fireplaces',\n",
       " 'PavedDrive',\n",
       " 'WoodDeckSF',\n",
       " 'OpenPorchSF',\n",
       " 'EnclosedPorch',\n",
       " '3SsnPorch',\n",
       " 'ScreenPorch',\n",
       " 'PoolArea',\n",
       " 'MiscVal',\n",
       " 'YrSold',\n",
       " 'SaleCondition']"
      ]
     },
     "execution_count": 16,
     "metadata": {},
     "output_type": "execute_result"
    }
   ],
   "source": [
    "non_col"
   ]
  },
  {
   "cell_type": "code",
   "execution_count": 17,
   "metadata": {},
   "outputs": [],
   "source": [
    "impute_meaningfull_missing = SimpleImputer(strategy='constant',missing_values=np.nan, fill_value=\"not_present\")\n",
    "impute_non_meaningfull_missing = SimpleImputer(strategy='most_frequent', missing_values=np.nan)\n",
    "ordinal_transformer = OrdinalEncoder(handle_unknown=\"use_encoded_value\", unknown_value=np.nan)\n",
    "nominal_transformer = OneHotEncoder(sparse=False,handle_unknown=\"ignore\")"
   ]
  },
  {
   "cell_type": "code",
   "execution_count": 18,
   "metadata": {},
   "outputs": [],
   "source": [
    "pipe_1 = ColumnTransformer([\n",
    "    \n",
    "    ('ordinal_columns', ordinal_transformer, ordinal_columns),\n",
    "    ('nominal_columns', nominal_transformer, nominal_columns)], \n",
    "    remainder='passthrough')\n",
    "\n",
    "def array_to_df(array_name):\n",
    "    return pd.DataFrame(array_name,columns=meaningfull_missing +non_meaningfull_missing+non_col)\n"
   ]
  },
  {
   "cell_type": "code",
   "execution_count": 19,
   "metadata": {},
   "outputs": [],
   "source": [
    "pipe_2 = ColumnTransformer([\n",
    "    ('meaningfull_missing', impute_meaningfull_missing, meaningfull_missing),\n",
    "    ('non_meaningfull_missing', impute_non_meaningfull_missing, non_meaningfull_missing)], \n",
    "    remainder='passthrough')\n",
    "\n",
    "pipe = Pipeline([(\"2\", pipe_2),(\"left_over_missing\",SimpleImputer(strategy=\"most_frequent\")),(\"function_transformer\",FunctionTransformer(array_to_df)),(\"1\",pipe_1),(\"left_over_missing_final\",SimpleImputer(strategy=\"most_frequent\"))]) "
   ]
  },
  {
   "cell_type": "markdown",
   "metadata": {},
   "source": [
    "# Scoring and testing"
   ]
  },
  {
   "cell_type": "code",
   "execution_count": 21,
   "metadata": {},
   "outputs": [],
   "source": [
    "def rmsle(y, y_pred):\n",
    "    return -np.sqrt(mean_squared_log_error(y, y_pred))\n",
    "\n",
    "scoring = make_scorer(rmsle, greater_is_better=False)"
   ]
  },
  {
   "cell_type": "code",
   "execution_count": 22,
   "metadata": {},
   "outputs": [],
   "source": [
    "def rmsle_neg(real, predicted):\n",
    "    p = np.log(predicted+1)\n",
    "    r = np.log(real+1)\n",
    "    sum = ((p - r)**2).sum()\n",
    "    return ((sum/len(predicted))**0.5) * -1\n",
    "rmsle_neg_score = make_scorer(rmsle_neg, greater_is_better = True)"
   ]
  },
  {
   "cell_type": "code",
   "execution_count": 31,
   "metadata": {},
   "outputs": [
    {
     "data": {
      "text/plain": [
       "array([11.72352502, 11.91073449, 12.11799646, ..., 11.95298005,\n",
       "       11.6323902 , 12.35532522])"
      ]
     },
     "execution_count": 31,
     "metadata": {},
     "output_type": "execute_result"
    }
   ],
   "source": [
    "test_pipe=make_pipeline(pipe, RandomForestRegressor())\n",
    "test_pipe.fit(X,y)\n",
    "test_pipe.predict(df_test)"
   ]
  },
  {
   "cell_type": "code",
   "execution_count": 26,
   "metadata": {},
   "outputs": [
    {
     "data": {
      "text/plain": [
       "-0.010685157338506354"
      ]
     },
     "execution_count": 26,
     "metadata": {},
     "output_type": "execute_result"
    }
   ],
   "source": [
    "# Cross-validate Pipeline\n",
    "gdb_score = cross_val_score(test_pipe, X, y,n_jobs=1, cv=5, scoring=rmsle_neg_score).mean()\n",
    "gdb_score"
   ]
  },
  {
   "cell_type": "code",
   "execution_count": null,
   "metadata": {},
   "outputs": [],
   "source": [
    "from sklearn.model_selection import GridSearchCV\n",
    "\n",
    "param_grid = {}\n",
    "grid = GridSearchCV(estimator, param_grid, scoring=scoring, n_jobs=-1, cv=5)\n",
    "grid.fit(X, y);"
   ]
  },
  {
   "cell_type": "markdown",
   "metadata": {},
   "source": [
    "# 🏅FINAL SUBMISSION (submit at least 30 min before Recap)"
   ]
  },
  {
   "cell_type": "markdown",
   "metadata": {},
   "source": [
    "Discover your real test score by submitting on Kaggle! \n",
    "\n",
    "👉 Write down your test score on the [result spreadsheet here](https://docs.google.com/spreadsheets/d/1ZEBKwa_k1Ytb0WCOh-Nopq3eaezwBNu1SAqKXEXRguc/edit#gid=0) (pick the correct batch!)"
   ]
  },
  {
   "cell_type": "code",
   "execution_count": 35,
   "metadata": {
    "tags": [
     "challengify"
    ]
   },
   "outputs": [],
   "source": [
    "submission = pd.DataFrame(df_test[\"Id\"].copy())"
   ]
  },
  {
   "cell_type": "code",
   "execution_count": 40,
   "metadata": {},
   "outputs": [],
   "source": [
    "submission[\"SalePrice\"] = np.exp(test_pipe.predict(df_test))"
   ]
  },
  {
   "cell_type": "code",
   "execution_count": 39,
   "metadata": {},
   "outputs": [],
   "source": [
    "submission.to_csv(\"houses_kaggle.csv\",header=True,index=False)"
   ]
  },
  {
   "cell_type": "code",
   "execution_count": 41,
   "metadata": {},
   "outputs": [
    {
     "data": {
      "text/html": [
       "<div>\n",
       "<style scoped>\n",
       "    .dataframe tbody tr th:only-of-type {\n",
       "        vertical-align: middle;\n",
       "    }\n",
       "\n",
       "    .dataframe tbody tr th {\n",
       "        vertical-align: top;\n",
       "    }\n",
       "\n",
       "    .dataframe thead th {\n",
       "        text-align: right;\n",
       "    }\n",
       "</style>\n",
       "<table border=\"1\" class=\"dataframe\">\n",
       "  <thead>\n",
       "    <tr style=\"text-align: right;\">\n",
       "      <th></th>\n",
       "      <th>Id</th>\n",
       "      <th>SalePrice</th>\n",
       "    </tr>\n",
       "  </thead>\n",
       "  <tbody>\n",
       "    <tr>\n",
       "      <th>0</th>\n",
       "      <td>1461</td>\n",
       "      <td>123441.793817</td>\n",
       "    </tr>\n",
       "    <tr>\n",
       "      <th>1</th>\n",
       "      <td>1462</td>\n",
       "      <td>148855.972744</td>\n",
       "    </tr>\n",
       "    <tr>\n",
       "      <th>2</th>\n",
       "      <td>1463</td>\n",
       "      <td>183138.221620</td>\n",
       "    </tr>\n",
       "    <tr>\n",
       "      <th>3</th>\n",
       "      <td>1464</td>\n",
       "      <td>179671.124268</td>\n",
       "    </tr>\n",
       "    <tr>\n",
       "      <th>4</th>\n",
       "      <td>1465</td>\n",
       "      <td>191580.608666</td>\n",
       "    </tr>\n",
       "    <tr>\n",
       "      <th>...</th>\n",
       "      <td>...</td>\n",
       "      <td>...</td>\n",
       "    </tr>\n",
       "    <tr>\n",
       "      <th>1454</th>\n",
       "      <td>2915</td>\n",
       "      <td>84603.337656</td>\n",
       "    </tr>\n",
       "    <tr>\n",
       "      <th>1455</th>\n",
       "      <td>2916</td>\n",
       "      <td>85258.827135</td>\n",
       "    </tr>\n",
       "    <tr>\n",
       "      <th>1456</th>\n",
       "      <td>2917</td>\n",
       "      <td>155279.197914</td>\n",
       "    </tr>\n",
       "    <tr>\n",
       "      <th>1457</th>\n",
       "      <td>2918</td>\n",
       "      <td>112689.350800</td>\n",
       "    </tr>\n",
       "    <tr>\n",
       "      <th>1458</th>\n",
       "      <td>2919</td>\n",
       "      <td>232193.236605</td>\n",
       "    </tr>\n",
       "  </tbody>\n",
       "</table>\n",
       "<p>1459 rows × 2 columns</p>\n",
       "</div>"
      ],
      "text/plain": [
       "        Id      SalePrice\n",
       "0     1461  123441.793817\n",
       "1     1462  148855.972744\n",
       "2     1463  183138.221620\n",
       "3     1464  179671.124268\n",
       "4     1465  191580.608666\n",
       "...    ...            ...\n",
       "1454  2915   84603.337656\n",
       "1455  2916   85258.827135\n",
       "1456  2917  155279.197914\n",
       "1457  2918  112689.350800\n",
       "1458  2919  232193.236605\n",
       "\n",
       "[1459 rows x 2 columns]"
      ]
     },
     "execution_count": 41,
     "metadata": {},
     "output_type": "execute_result"
    }
   ],
   "source": [
    "submission"
   ]
  },
  {
   "cell_type": "code",
   "execution_count": null,
   "metadata": {},
   "outputs": [],
   "source": []
  }
 ],
 "metadata": {
  "kernelspec": {
   "display_name": "Python 3 (ipykernel)",
   "language": "python",
   "name": "python3"
  },
  "language_info": {
   "codemirror_mode": {
    "name": "ipython",
    "version": 3
   },
   "file_extension": ".py",
   "mimetype": "text/x-python",
   "name": "python",
   "nbconvert_exporter": "python",
   "pygments_lexer": "ipython3",
   "version": "3.8.12"
  },
  "toc": {
   "base_numbering": 1,
   "nav_menu": {},
   "number_sections": true,
   "sideBar": true,
   "skip_h1_title": false,
   "title_cell": "Table of Contents",
   "title_sidebar": "Contents",
   "toc_cell": false,
   "toc_position": {},
   "toc_section_display": true,
   "toc_window_display": false
  }
 },
 "nbformat": 4,
 "nbformat_minor": 4
}
